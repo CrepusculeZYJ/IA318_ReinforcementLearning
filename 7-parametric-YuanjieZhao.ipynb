{
 "cells": [
  {
   "cell_type": "markdown",
   "metadata": {},
   "source": [
    "# Reinforcement Learning\n",
    "\n",
    "# 7. Parametric Bandits"
   ]
  },
  {
   "cell_type": "markdown",
   "metadata": {},
   "source": [
    "The objective of this lab is to recommend contents (here movies) using **parametric bandits**. The rewards are binary (like or dislike).\n"
   ]
  },
  {
   "cell_type": "markdown",
   "metadata": {},
   "source": [
    "## Imports"
   ]
  },
  {
   "cell_type": "code",
   "execution_count": 1,
   "metadata": {},
   "outputs": [],
   "source": [
    "import numpy as np\n",
    "import pandas as pd"
   ]
  },
  {
   "cell_type": "markdown",
   "metadata": {},
   "source": [
    "You will need ``ipywidgets`` to simulate the interactions with the user."
   ]
  },
  {
   "cell_type": "code",
   "execution_count": null,
   "metadata": {},
   "outputs": [],
   "source": [
    "#!pip install ipywidgets"
   ]
  },
  {
   "cell_type": "code",
   "execution_count": 2,
   "metadata": {},
   "outputs": [],
   "source": [
    "from ipywidgets import AppLayout, Button, GridspecLayout, Image, Layout"
   ]
  },
  {
   "cell_type": "code",
   "execution_count": null,
   "metadata": {},
   "outputs": [],
   "source": [
    "#!pip install scikit-learn"
   ]
  },
  {
   "cell_type": "code",
   "execution_count": 3,
   "metadata": {},
   "outputs": [],
   "source": [
    "from sklearn.linear_model import LogisticRegression\n",
    "from sklearn.preprocessing import MultiLabelBinarizer"
   ]
  },
  {
   "cell_type": "markdown",
   "metadata": {},
   "source": [
    "## Data"
   ]
  },
  {
   "cell_type": "markdown",
   "metadata": {},
   "source": [
    "We work on a catalogue of 1037 movies available in 2015."
   ]
  },
  {
   "cell_type": "code",
   "execution_count": 4,
   "metadata": {},
   "outputs": [],
   "source": [
    "catalogue = pd.read_pickle('movie_database.pickle')"
   ]
  },
  {
   "cell_type": "code",
   "execution_count": null,
   "metadata": {},
   "outputs": [],
   "source": [
    "len(catalogue)"
   ]
  },
  {
   "cell_type": "code",
   "execution_count": null,
   "metadata": {},
   "outputs": [],
   "source": [
    "catalogue.head()"
   ]
  },
  {
   "cell_type": "markdown",
   "metadata": {},
   "source": [
    "The features are the following:\n",
    "\n",
    "|Column|Description|Type|\n",
    "|:---|:---|:---|\n",
    "|Actors| Actors staring | list of strings|\n",
    "|Awards| Awards received| string|\n",
    "|Country| Country of origin| list of strings|\n",
    "|Director| Director(s) of the movie|  list of strings|\n",
    "|Genre| Genres (Action, ...) | list of strings|\n",
    "|Language| Language(s) spoken |list of strings|\n",
    "|Rated| Public rating (G = General, R = Restricted, ...)| list of strings|\n",
    "|Released| Date of the movie| date|\n",
    "|Title|Title of the movie|string|\n",
    "|imdbID| IMDB id| string|\n",
    "|imdbRating| IMDB rating (between 0 and 10)| float|\n",
    "|Metascore| Metacritic score (between 0 and 100)|float|\n",
    "|Box_office| Total money generated|float|\n",
    "|imdbVotes| Number of IMDB votes| float|\n",
    "|Runtime| Duration of the movie (in minutes)|float|\n",
    "|poster| Poster of the movie (jpg)| binary string|"
   ]
  },
  {
   "cell_type": "code",
   "execution_count": 7,
   "metadata": {},
   "outputs": [],
   "source": [
    "# Display the posters\n",
    "\n",
    "def get_poster(k, scale=1):\n",
    "    return Image(\n",
    "        value = catalogue.loc[k].poster,\n",
    "        format = 'jpg',\n",
    "        width = 130 * scale,\n",
    "        height = 200 * scale,\n",
    "    )\n",
    "\n",
    "def display_posters(index=None, n_col=5, n_rows=4):\n",
    "    if index is None:\n",
    "        index = np.arange(len(catalogue))\n",
    "    if len(index):\n",
    "        n_rows = min(n_rows, int(np.ceil(len(index) / n_col)))\n",
    "        grid = GridspecLayout(n_rows, n_col)\n",
    "        k = 0\n",
    "        for i in range(n_rows):\n",
    "            for j in range(n_col):\n",
    "                if k < len(index):\n",
    "                    grid[i, j] = get_poster(index[k])\n",
    "                k += 1 \n",
    "        return grid"
   ]
  },
  {
   "cell_type": "code",
   "execution_count": null,
   "metadata": {},
   "outputs": [],
   "source": [
    "display_posters()"
   ]
  },
  {
   "cell_type": "markdown",
   "metadata": {},
   "source": [
    "## Features\n",
    "\n",
    "We will describe each movie by some features, for instance its genre."
   ]
  },
  {
   "cell_type": "code",
   "execution_count": 9,
   "metadata": {},
   "outputs": [],
   "source": [
    "mlb = MultiLabelBinarizer()"
   ]
  },
  {
   "cell_type": "code",
   "execution_count": 10,
   "metadata": {},
   "outputs": [],
   "source": [
    "movies = pd.DataFrame(mlb.fit_transform(catalogue['Genre']), columns=mlb.classes_)"
   ]
  },
  {
   "cell_type": "code",
   "execution_count": null,
   "metadata": {},
   "outputs": [],
   "source": [
    "movies.head()"
   ]
  },
  {
   "cell_type": "code",
   "execution_count": null,
   "metadata": {},
   "outputs": [],
   "source": [
    "movies.columns"
   ]
  },
  {
   "cell_type": "markdown",
   "metadata": {},
   "source": [
    "## User\n",
    "\n",
    "Each user will be modeled by a vector of weights (positive or negative) on each feature. "
   ]
  },
  {
   "cell_type": "code",
   "execution_count": 13,
   "metadata": {},
   "outputs": [],
   "source": [
    "user = pd.DataFrame(0, index = [0], columns=movies.columns)\n",
    "user['Action'] = 2\n",
    "user['Crime'] = 1\n",
    "user['Sci-Fi'] = -2"
   ]
  },
  {
   "cell_type": "markdown",
   "metadata": {},
   "source": [
    "## To do\n",
    "\n",
    "* Display the favorite movies of this user. \n",
    "* Test another user, and quantify their similarity (e.g., proportion of common top-100 movies)."
   ]
  },
  {
   "cell_type": "markdown",
   "metadata": {},
   "source": [
    "Favorite movies of this user"
   ]
  },
  {
   "cell_type": "code",
   "execution_count": null,
   "metadata": {},
   "outputs": [],
   "source": [
    "score_user = (user.values @ movies.values.T)[0]\n",
    "display_posters(score_user.argsort()[::-1])"
   ]
  },
  {
   "cell_type": "markdown",
   "metadata": {},
   "source": [
    "Set another user"
   ]
  },
  {
   "cell_type": "code",
   "execution_count": 31,
   "metadata": {},
   "outputs": [],
   "source": [
    "user2 = pd.DataFrame(0, index = [0], columns=movies.columns)\n",
    "user2['Action'] = 2\n",
    "user2['Adventure'] = 2\n",
    "user2['Crime'] = -1\n",
    "user2['Sci-Fi'] = -1"
   ]
  },
  {
   "cell_type": "code",
   "execution_count": null,
   "metadata": {},
   "outputs": [],
   "source": [
    "score_user2 = (user2.values @ movies.values.T)[0]\n",
    "display_posters(score_user2.argsort()[::-1])"
   ]
  },
  {
   "cell_type": "markdown",
   "metadata": {},
   "source": [
    "Calculate similarity"
   ]
  },
  {
   "cell_type": "code",
   "execution_count": null,
   "metadata": {},
   "outputs": [],
   "source": [
    "user1_top100 = score_user.argsort()[::-1][:100]\n",
    "user2_top100 = score_user2.argsort()[::-1][:100]\n",
    "similarity = len(set(user1_top100) & set(user2_top100)) / 100\n",
    "similarity"
   ]
  },
  {
   "cell_type": "markdown",
   "metadata": {},
   "source": [
    "## Offline learning\n",
    "\n",
    "We start with offline learning. There are 2 steps: \n",
    "1. Collect the user's opinion on a few movies (e.g., 10)\n",
    "2. Rank the other movies by logistic regression.\n",
    "\n",
    "Let's test that."
   ]
  },
  {
   "cell_type": "code",
   "execution_count": 34,
   "metadata": {},
   "outputs": [],
   "source": [
    "# Add a column to record the user's opinion (like / dislike)\n",
    "movies = movies.assign(like=None)"
   ]
  },
  {
   "cell_type": "code",
   "execution_count": 35,
   "metadata": {},
   "outputs": [],
   "source": [
    "# Select a random movie (not yet seen by the user)\n",
    "    \n",
    "def select_random_movie():\n",
    "    index = np.flatnonzero(movies.like.isna())\n",
    "    if len(index):\n",
    "        return np.random.choice(index)\n",
    "    else:\n",
    "        return np.random.choice(len(movies))"
   ]
  },
  {
   "cell_type": "code",
   "execution_count": null,
   "metadata": {},
   "outputs": [],
   "source": [
    "# Create buttons\n",
    "\n",
    "def create_expanded_button(description, button_style):\n",
    "    return Button(\n",
    "        description=description,\n",
    "        button_style=button_style,\n",
    "        layout=Layout())\n",
    "\n",
    "def update_likes(button):\n",
    "    global movie_id\n",
    "    movies.loc[movie_id, 'like'] = button.description == 'like'\n",
    "    \n",
    "def update_poster():\n",
    "    global movie_id\n",
    "    img.value = catalogue.loc[movie_id].poster\n",
    "    \n",
    "def on_button_clicked(button):\n",
    "    global movie_id\n",
    "    update_likes(button)\n",
    "    movie_id = select_random_movie()\n",
    "    update_poster()\n",
    "\n",
    "# Setting the buttons\n",
    "left_button = create_expanded_button('like', 'success')\n",
    "right_button = create_expanded_button('dislike', 'danger')\n",
    "left_button.on_click(on_button_clicked)\n",
    "right_button.on_click(on_button_clicked)\n",
    "\n",
    "# Setting the movie poster\n",
    "movie_id = select_random_movie()\n",
    "img = get_poster(movie_id, scale=1.5)\n",
    "\n",
    "# Display\n",
    "AppLayout(\n",
    "    left_sidebar=left_button,\n",
    "    right_sidebar=right_button, \n",
    "    center=img,\n",
    "    pane_widths=[0.3, 0.4, 0.3]\n",
    ")"
   ]
  },
  {
   "cell_type": "markdown",
   "metadata": {},
   "source": [
    "## To do\n",
    "\n",
    "* Give your opinion on some movies (e.g., 10), making sure that you get a few likes and a few dislikes.\n",
    "* Apply logistic regression and display the other movies in order of preference (top movies first).\n",
    "* Give your top-3 and bottom-3 genres, as predicted by the model."
   ]
  },
  {
   "cell_type": "code",
   "execution_count": 84,
   "metadata": {},
   "outputs": [],
   "source": [
    "movies = movies.assign(like=None)\n",
    "# likes\n",
    "for index in [101, 356, 655]:\n",
    "    movies.at[index, 'like'] = True\n",
    "\n",
    "# dislikes\n",
    "for index in [901, 456, 255]:\n",
    "    movies.at[index, 'like'] = False"
   ]
  },
  {
   "cell_type": "code",
   "execution_count": null,
   "metadata": {},
   "outputs": [],
   "source": [
    "# likes\n",
    "likes = np.flatnonzero(movies.like==True)\n",
    "display_posters(likes)"
   ]
  },
  {
   "cell_type": "code",
   "execution_count": null,
   "metadata": {},
   "outputs": [],
   "source": [
    "# dislikes\n",
    "dislikes = np.flatnonzero(movies.like==False)\n",
    "display_posters(dislikes)"
   ]
  },
  {
   "cell_type": "markdown",
   "metadata": {},
   "source": [
    "Other movies in order of preference"
   ]
  },
  {
   "cell_type": "code",
   "execution_count": null,
   "metadata": {},
   "outputs": [],
   "source": [
    "model = LogisticRegression(fit_intercept=False)\n",
    "rated_movies = movies.dropna()\n",
    "X_train = rated_movies.drop(columns='like').values\n",
    "y_train = rated_movies.like.astype(int).values\n",
    "model.fit(X_train, y_train)\n",
    "\n",
    "unrated_movies = movies[movies.like.isna()].copy()\n",
    "X_test = unrated_movies.drop(columns='like').values\n",
    "predicted_probabilities = model.predict_proba(X_test)[:,1]\n",
    "unrated_movies.loc[:, 'predicted_probabilities'] = predicted_probabilities\n",
    "\n",
    "unrated_movies = unrated_movies.sort_values('predicted_probabilities', ascending=False)\n",
    "print('Top 20 preferred movies:')\n",
    "display_posters(unrated_movies.index[:20])"
   ]
  },
  {
   "cell_type": "code",
   "execution_count": null,
   "metadata": {},
   "outputs": [],
   "source": [
    "unrated_movies = unrated_movies.assign(Title=None)\n",
    "unrated_movies.loc[:, 'Title'] = catalogue.loc[unrated_movies.index].Title.values\n",
    "unrated_movies[['Title', 'predicted_probabilities']].head(20)"
   ]
  },
  {
   "cell_type": "markdown",
   "metadata": {},
   "source": [
    "Top-3 genres"
   ]
  },
  {
   "cell_type": "code",
   "execution_count": null,
   "metadata": {},
   "outputs": [],
   "source": [
    "genres_weights = model.coef_[0]\n",
    "sorted_genres = pd.Series(genres_weights, index=rated_movies.drop(columns='like').columns).sort_values(ascending=False)\n",
    "top_genres = sorted_genres.head(3)\n",
    "top_genres_df = top_genres.reset_index()\n",
    "top_genres_df.columns = ['Genre', 'Weight']\n",
    "top_genres_df"
   ]
  },
  {
   "cell_type": "markdown",
   "metadata": {},
   "source": [
    "Bottom-3 genres"
   ]
  },
  {
   "cell_type": "code",
   "execution_count": null,
   "metadata": {},
   "outputs": [],
   "source": [
    "bottom_genres = sorted_genres.tail(3)\n",
    "bottom_genres_df = bottom_genres.reset_index()\n",
    "bottom_genres_df.columns = ['Genre', 'Weight']\n",
    "bottom_genres_df"
   ]
  },
  {
   "cell_type": "markdown",
   "metadata": {},
   "source": [
    "## Online learning"
   ]
  },
  {
   "cell_type": "markdown",
   "metadata": {},
   "source": [
    "We now learn the user preferences online, as they come. For that, we use a Bayesian algorithm inspired by Thompson sampling. \n",
    "\n",
    "On each feedback provided by the user:\n",
    "1. (Learning) The parameter (vector of weights) is learned.\n",
    "2. (Sampling) A new parameter is sampled, assuming a Gaussian distribution.\n",
    "3. (Action) The top movie for this new parameter, among movies not yet seen by the user, is proposed. \n",
    "\n",
    "Note that:\n",
    "* In step 1, we retrain the estimator **from scratch**, using logistic regression on all training data samples (**no** online estimation).\n",
    "* In step 2, we discard correlations (**diagonal** covariance matrix)."
   ]
  },
  {
   "cell_type": "markdown",
   "metadata": {},
   "source": [
    "## To do\n",
    "\n",
    "* Complete the function ``select_bayes`` below.\n",
    "* Test it on some movies (e.g., 10), until you get a few likes and a few dislikes.\n",
    "* Display the other movies in order of preference (top movies first)."
   ]
  },
  {
   "cell_type": "code",
   "execution_count": 150,
   "metadata": {},
   "outputs": [],
   "source": [
    "def select_bayes(movies, model):\n",
    "    \n",
    "    if set(movies.like) == {True, False, None}:\n",
    "        \n",
    "        # to be completed (learning, sampling, action)\n",
    "        \n",
    "        # Learning\n",
    "        rated_movies = movies.dropna()\n",
    "        X_train = rated_movies.drop(columns='like').values\n",
    "        y_train = rated_movies.like.astype(int).values\n",
    "        model.fit(X_train, y_train)\n",
    "        \n",
    "        # Sampling\n",
    "        mu = model.coef_[0]\n",
    "        predicted_probabilities = model.predict_proba(X_train)[:,1]\n",
    "        hessian = np.zeros((len(mu), len(mu)))\n",
    "        for i in range(len(X_train)):\n",
    "            x = X_train[i]\n",
    "            hessian += np.outer(x, x) * predicted_probabilities[i] * (1 - predicted_probabilities[i])\n",
    "        hessian += np.eye(len(mu)) * 1.0\n",
    "        gamma = np.linalg.inv(hessian)\n",
    "        theta_sampled = np.random.multivariate_normal(mu, gamma)\n",
    "        \n",
    "        # Action\n",
    "        unrated_movies = movies[movies.like.isna()].copy()\n",
    "        X_test = unrated_movies.drop(columns='like').values\n",
    "        score = X_test @ theta_sampled\n",
    "        top_index = score.argsort()[::-1][0]\n",
    "        return top_index\n",
    "    \n",
    "    else:    \n",
    "        return select_random_movie()    "
   ]
  },
  {
   "cell_type": "code",
   "execution_count": 96,
   "metadata": {},
   "outputs": [],
   "source": [
    "# reset\n",
    "movies = movies.assign(like=None)"
   ]
  },
  {
   "cell_type": "code",
   "execution_count": 97,
   "metadata": {},
   "outputs": [],
   "source": [
    "def on_button_clicked(button):\n",
    "    global movie_id\n",
    "    update_likes(button)\n",
    "    movie_id = select_bayes()\n",
    "    update_poster()    "
   ]
  },
  {
   "cell_type": "code",
   "execution_count": null,
   "metadata": {
    "scrolled": false
   },
   "outputs": [],
   "source": [
    "# Setting the buttons\n",
    "left_button = create_expanded_button('like', 'success')\n",
    "right_button = create_expanded_button('dislike', 'danger')\n",
    "left_button.on_click(on_button_clicked)\n",
    "right_button.on_click(on_button_clicked)\n",
    "\n",
    "# Setting the movie poster\n",
    "movie_id = select_random_movie()\n",
    "img = get_poster(movie_id, scale=1.5)\n",
    "\n",
    "# Display\n",
    "AppLayout(\n",
    "    left_sidebar=left_button,\n",
    "    right_sidebar=right_button, \n",
    "    center=img,\n",
    "    pane_widths=[0.3, 0.4, 0.3]\n",
    ")"
   ]
  },
  {
   "cell_type": "markdown",
   "metadata": {},
   "source": [
    "## Analysis\n",
    "\n",
    "Finally, we would like to assess the quality of our bandit algorithm.\n",
    "\n",
    "## To do\n",
    "\n",
    "* Choose a user, that is a parameter $\\theta$ (vector of weights).\n",
    "* Provide the answers of this user to the movies proposed by the algorithm, assuming binary rewards, with mean\n",
    "$$\n",
    "q(a) = \\frac 1 {1 + e^{-\\theta^T a}}\n",
    "$$\n",
    "where $a$ is the action (= movie proposed by the algorithm).\n",
    "* Make sure that a reasonable fraction of movies are liked (e.g., between 10\\% and 90\\%). Otherwise, update $\\theta$.\n",
    "* Simulate an interaction of this user with the recommender system over 100 movies.\n",
    "* Compute the [Spearman's correlation coefficient](https://en.wikipedia.org/wiki/Spearman%27s_rank_correlation_coefficient) of the ranking of the unseen movies provided by the algorithm, compared to the ground-truth ranking.\n",
    "* Plot the evolution of this coefficient with respect to the number of movies seen by the user, from 1 to 100.\n",
    "* Give the top-3 and bottom-3 genres, as predicted by the model, and compare to the ground-truth.\n",
    "* Do the same experiments with other features (e.g., actors, actors + genres, actors + director + genres)."
   ]
  },
  {
   "cell_type": "code",
   "execution_count": 151,
   "metadata": {},
   "outputs": [],
   "source": [
    "from scipy.stats import spearmanr\n",
    "import matplotlib.pyplot as plt"
   ]
  },
  {
   "cell_type": "markdown",
   "metadata": {},
   "source": [
    "Generate $\\theta$ parameter randomly for a user"
   ]
  },
  {
   "cell_type": "code",
   "execution_count": null,
   "metadata": {},
   "outputs": [],
   "source": [
    "movies = movies.assign(like=None)\n",
    "\n",
    "model = LogisticRegression(fit_intercept=False)\n",
    "model.coef_ = np.zeros((1, movies.shape[1] - 1))\n",
    "model.classes_ = np.array([0, 1])\n",
    "model.intercept_ = np.zeros(1)\n",
    "\n",
    "while True:\n",
    "    theta_user = np.random.randn(movies.shape[1] - 1)\n",
    "    q_a = 1 / (1 + np.exp(- theta_user @ movies.drop(columns='like').values.T))\n",
    "    if np.mean(q_a) >= 0.1 and np.mean(q_a) <= 0.9:\n",
    "        break\n",
    "\n",
    "print(f\"Parameter: {theta_user}\")\n",
    "print(f\"Fraction of liked movies: {np.mean(q_a)}\")"
   ]
  },
  {
   "cell_type": "markdown",
   "metadata": {},
   "source": [
    "Simulate the interation of this user"
   ]
  },
  {
   "cell_type": "code",
   "execution_count": 153,
   "metadata": {},
   "outputs": [],
   "source": [
    "def user_feedback (movie, theta_user):\n",
    "    q_a = 1 / (1 + np.exp(- theta_user @ movie))\n",
    "    return np.random.rand() < q_a\n",
    "\n",
    "rated_movies_list = []\n",
    "spearman_correlations = []\n",
    "n_rated = 100\n",
    "x_list = []\n",
    "\n",
    "for i in range(n_rated):\n",
    "    movie_id = select_bayes(movies, model)\n",
    "    movie = movies.drop(columns='like').loc[movie_id].values\n",
    "    feedback = user_feedback(movie, theta_user)\n",
    "    movies.loc[movie_id, 'like'] = feedback\n",
    "    rated_movies_list.append(movie_id)\n",
    "    unrated_movies = movies[movies.like.isna()]\n",
    "    \n",
    "    algo_ranking = model.predict_proba(unrated_movies.drop(columns='like').values)[:,1]\n",
    "    gt_ranking = (theta_user @ unrated_movies.drop(columns='like').values.T)\n",
    "    \n",
    "    if np.all(algo_ranking == algo_ranking[0]):\n",
    "        continue\n",
    "    \n",
    "    spearman_corr, _ = spearmanr(algo_ranking, gt_ranking)\n",
    "    x_list.append(i)\n",
    "    spearman_correlations.append(spearman_corr)"
   ]
  },
  {
   "cell_type": "markdown",
   "metadata": {},
   "source": [
    "Plot the Spearman's correlation"
   ]
  },
  {
   "cell_type": "code",
   "execution_count": null,
   "metadata": {},
   "outputs": [],
   "source": [
    "plt.plot(x_list, spearman_correlations)\n",
    "plt.xlabel('Number of rated movies')\n",
    "plt.ylabel('Spearman\\'s correlation')\n",
    "plt.title('Evolution of the Spearman\\'s correlation (only genres)')\n",
    "plt.show()"
   ]
  },
  {
   "cell_type": "markdown",
   "metadata": {},
   "source": [
    "Top-3 genres"
   ]
  },
  {
   "cell_type": "code",
   "execution_count": null,
   "metadata": {},
   "outputs": [],
   "source": [
    "genres_weights_algo = model.coef_[0].argsort()[::-1]\n",
    "top_3_algo = genres_weights_algo[:3]\n",
    "bottom_3_algo = genres_weights_algo[:-4:-1]\n",
    "\n",
    "genres_weights_gt = theta_user.argsort()[::-1]\n",
    "top_3_gt = genres_weights_gt[:3]\n",
    "bottom_3_gt = genres_weights_gt[:-4:-1]\n",
    "\n",
    "print(f\"Top-3 genres predicted by the model: {movies.columns[top_3_algo].values}\")\n",
    "print(f\"Top-3 genres in the ground truth: {movies.columns[top_3_gt].values}\\n\")\n",
    "print(f\"Bottom-3 genres predicted by the model: {movies.columns[bottom_3_algo].values}\")\n",
    "print(f\"Bottom-3 genres in the ground truth: {movies.columns[bottom_3_gt].values}\")"
   ]
  },
  {
   "cell_type": "markdown",
   "metadata": {},
   "source": [
    "### Actors"
   ]
  },
  {
   "cell_type": "code",
   "execution_count": 156,
   "metadata": {},
   "outputs": [],
   "source": [
    "movies_actors = pd.DataFrame(mlb.fit_transform(catalogue['Actors']), columns=mlb.classes_)"
   ]
  },
  {
   "cell_type": "code",
   "execution_count": null,
   "metadata": {},
   "outputs": [],
   "source": [
    "movies_actors = movies_actors.assign(like=None)\n",
    "\n",
    "model = LogisticRegression(fit_intercept=False)\n",
    "model.coef_ = np.zeros((1, movies_actors.shape[1] - 1))\n",
    "model.classes_ = np.array([0, 1])\n",
    "model.intercept_ = np.zeros(1)\n",
    "\n",
    "while True:\n",
    "    theta_user = np.random.randn(movies_actors.shape[1] - 1)\n",
    "    q_a = 1 / (1 + np.exp(- theta_user @ movies_actors.drop(columns='like').values.T))\n",
    "    if np.mean(q_a) >= 0.1 and np.mean(q_a) <= 0.9:\n",
    "        break\n",
    "\n",
    "print(f\"Parameter: {theta_user}\")\n",
    "print(f\"Fraction of liked movies: {np.mean(q_a)}\")"
   ]
  },
  {
   "cell_type": "code",
   "execution_count": null,
   "metadata": {},
   "outputs": [],
   "source": [
    "rated_movies_list = []\n",
    "spearman_correlations = []\n",
    "n_rated = 100\n",
    "x_list = []\n",
    "\n",
    "for i in range(n_rated):\n",
    "    movie_id = select_bayes(movies_actors, model)\n",
    "    movie = movies_actors.drop(columns='like').loc[movie_id].values\n",
    "    feedback = user_feedback(movie, theta_user)\n",
    "    movies_actors.loc[movie_id, 'like'] = feedback\n",
    "    rated_movies_list.append(movie_id)\n",
    "    unrated_movies = movies_actors[movies_actors.like.isna()]\n",
    "    \n",
    "    algo_ranking = model.predict_proba(unrated_movies.drop(columns='like').values)[:,1]\n",
    "    gt_ranking = (theta_user @ unrated_movies.drop(columns='like').values.T)\n",
    "    \n",
    "    if np.all(algo_ranking == algo_ranking[0]):\n",
    "        continue\n",
    "    \n",
    "    spearman_corr, _ = spearmanr(algo_ranking, gt_ranking)\n",
    "    x_list.append(i)\n",
    "    spearman_correlations.append(spearman_corr)"
   ]
  },
  {
   "cell_type": "code",
   "execution_count": null,
   "metadata": {},
   "outputs": [],
   "source": [
    "plt.plot(x_list, spearman_correlations)\n",
    "plt.xlabel('Number of rated movies')\n",
    "plt.ylabel('Spearman\\'s correlation')\n",
    "plt.title('Evolution of the Spearman\\'s correlation (only actors)')\n",
    "plt.show()"
   ]
  },
  {
   "cell_type": "code",
   "execution_count": null,
   "metadata": {},
   "outputs": [],
   "source": [
    "genres_weights_algo = model.coef_[0].argsort()[::-1]\n",
    "top_3_algo = genres_weights_algo[:3]\n",
    "bottom_3_algo = genres_weights_algo[:-4:-1]\n",
    "\n",
    "genres_weights_gt = theta_user.argsort()[::-1]\n",
    "top_3_gt = genres_weights_gt[:3]\n",
    "bottom_3_gt = genres_weights_gt[:-4:-1]\n",
    "\n",
    "print(f\"Top-3 genres predicted by the model: {movies_actors.columns[top_3_algo].values}\")\n",
    "print(f\"Top-3 genres in the ground truth: {movies_actors.columns[top_3_gt].values}\\n\")\n",
    "print(f\"Bottom-3 genres predicted by the model: {movies_actors.columns[bottom_3_algo].values}\")\n",
    "print(f\"Bottom-3 genres in the ground truth: {movies_actors.columns[bottom_3_gt].values}\")"
   ]
  },
  {
   "cell_type": "markdown",
   "metadata": {},
   "source": [
    "### Actors + genres"
   ]
  },
  {
   "cell_type": "code",
   "execution_count": null,
   "metadata": {},
   "outputs": [],
   "source": [
    "movies_actors = pd.DataFrame(mlb.fit_transform(catalogue['Actors']), columns=mlb.classes_)\n",
    "movies_genres = pd.DataFrame(mlb.fit_transform(catalogue['Genre']), columns=mlb.classes_)\n",
    "movies_actors_genres = pd.concat([movies_actors, movies_genres], axis=1)"
   ]
  },
  {
   "cell_type": "code",
   "execution_count": null,
   "metadata": {},
   "outputs": [],
   "source": [
    "movies_actors_genres = movies_actors_genres.assign(like=None)\n",
    "\n",
    "model = LogisticRegression(fit_intercept=False)\n",
    "model.coef_ = np.zeros((1, movies_actors_genres.shape[1] - 1))\n",
    "model.classes_ = np.array([0, 1])\n",
    "model.intercept_ = np.zeros(1)\n",
    "\n",
    "while True:\n",
    "    theta_user = np.random.randn(movies_actors_genres.shape[1] - 1)\n",
    "    q_a = 1 / (1 + np.exp(- theta_user @ movies_actors_genres.drop(columns='like').values.T))\n",
    "    if np.mean(q_a) >= 0.1 and np.mean(q_a) <= 0.9:\n",
    "        break\n",
    "\n",
    "print(f\"Parameter: {theta_user}\")\n",
    "print(f\"Fraction of liked movies: {np.mean(q_a)}\")"
   ]
  },
  {
   "cell_type": "code",
   "execution_count": 164,
   "metadata": {},
   "outputs": [],
   "source": [
    "rated_movies_list = []\n",
    "spearman_correlations = []\n",
    "n_rated = 100\n",
    "x_list = []\n",
    "\n",
    "for i in range(n_rated):\n",
    "    movie_id = select_bayes(movies_actors_genres, model)\n",
    "    movie = movies_actors_genres.drop(columns='like').loc[movie_id].values\n",
    "    feedback = user_feedback(movie, theta_user)\n",
    "    movies_actors_genres.loc[movie_id, 'like'] = feedback\n",
    "    rated_movies_list.append(movie_id)\n",
    "    unrated_movies = movies_actors_genres[movies_actors_genres.like.isna()]\n",
    "    \n",
    "    algo_ranking = model.predict_proba(unrated_movies.drop(columns='like').values)[:,1]\n",
    "    gt_ranking = (theta_user @ unrated_movies.drop(columns='like').values.T)\n",
    "    \n",
    "    if np.all(algo_ranking == algo_ranking[0]):\n",
    "        continue\n",
    "    \n",
    "    spearman_corr, _ = spearmanr(algo_ranking, gt_ranking)\n",
    "    x_list.append(i)\n",
    "    spearman_correlations.append(spearman_corr)"
   ]
  },
  {
   "cell_type": "code",
   "execution_count": null,
   "metadata": {},
   "outputs": [],
   "source": [
    "plt.plot(x_list, spearman_correlations)\n",
    "plt.xlabel('Number of rated movies')\n",
    "plt.ylabel('Spearman\\'s correlation')\n",
    "plt.title('Evolution of the Spearman\\'s correlation (actors + genres)')\n",
    "plt.show()"
   ]
  },
  {
   "cell_type": "code",
   "execution_count": null,
   "metadata": {},
   "outputs": [],
   "source": [
    "genres_weights_algo = model.coef_[0].argsort()[::-1]\n",
    "top_3_algo = genres_weights_algo[:3]\n",
    "bottom_3_algo = genres_weights_algo[:-4:-1]\n",
    "\n",
    "genres_weights_gt = theta_user.argsort()[::-1]\n",
    "top_3_gt = genres_weights_gt[:3]\n",
    "bottom_3_gt = genres_weights_gt[:-4:-1]\n",
    "\n",
    "print(f\"Top-3 genres predicted by the model: {movies_actors_genres.columns[top_3_algo].values}\")\n",
    "print(f\"Top-3 genres in the ground truth: {movies_actors_genres.columns[top_3_gt].values}\\n\")\n",
    "print(f\"Bottom-3 genres predicted by the model: {movies_actors_genres.columns[bottom_3_algo].values}\")\n",
    "print(f\"Bottom-3 genres in the ground truth: {movies_actors_genres.columns[bottom_3_gt].values}\")"
   ]
  },
  {
   "cell_type": "markdown",
   "metadata": {},
   "source": [
    "### Actors + directors + genres"
   ]
  },
  {
   "cell_type": "code",
   "execution_count": null,
   "metadata": {},
   "outputs": [],
   "source": [
    "movies_actors = pd.DataFrame(mlb.fit_transform(catalogue['Actors']), columns=mlb.classes_)\n",
    "movies_directors = pd.DataFrame(mlb.fit_transform(catalogue['Director']), columns=mlb.classes_)\n",
    "movies_genres = pd.DataFrame(mlb.fit_transform(catalogue['Genre']), columns=mlb.classes_)\n",
    "movies_actors_directors_genres = pd.concat([movies_actors, movies_directors, movies_genres], axis=1)"
   ]
  },
  {
   "cell_type": "code",
   "execution_count": null,
   "metadata": {},
   "outputs": [],
   "source": [
    "movies_actors_directors_genres = movies_actors_directors_genres.assign(like=None)\n",
    "\n",
    "model = LogisticRegression(fit_intercept=False)\n",
    "model.coef_ = np.zeros((1, movies_actors_directors_genres.shape[1] - 1))\n",
    "model.classes_ = np.array([0, 1])\n",
    "model.intercept_ = np.zeros(1)\n",
    "\n",
    "while True:\n",
    "    theta_user = np.random.randn(movies_actors_directors_genres.shape[1] - 1)\n",
    "    q_a = 1 / (1 + np.exp(- theta_user @ movies_actors_directors_genres.drop(columns='like').values.T))\n",
    "    if np.mean(q_a) >= 0.1 and np.mean(q_a) <= 0.9:\n",
    "        break\n",
    "\n",
    "print(f\"Parameter: {theta_user}\")\n",
    "print(f\"Fraction of liked movies: {np.mean(q_a)}\")"
   ]
  },
  {
   "cell_type": "code",
   "execution_count": 170,
   "metadata": {},
   "outputs": [],
   "source": [
    "rated_movies_list = []\n",
    "spearman_correlations = []\n",
    "n_rated = 100\n",
    "x_list = []\n",
    "\n",
    "for i in range(n_rated):\n",
    "    movie_id = select_bayes(movies_actors_directors_genres, model)\n",
    "    movie = movies_actors_directors_genres.drop(columns='like').loc[movie_id].values\n",
    "    feedback = user_feedback(movie, theta_user)\n",
    "    movies_actors_directors_genres.loc[movie_id, 'like'] = feedback\n",
    "    rated_movies_list.append(movie_id)\n",
    "    unrated_movies = movies_actors_directors_genres[movies_actors_directors_genres.like.isna()]\n",
    "    \n",
    "    algo_ranking = model.predict_proba(unrated_movies.drop(columns='like').values)[:,1]\n",
    "    gt_ranking = (theta_user @ unrated_movies.drop(columns='like').values.T)\n",
    "    \n",
    "    if np.all(algo_ranking == algo_ranking[0]):\n",
    "        continue\n",
    "    \n",
    "    spearman_corr, _ = spearmanr(algo_ranking, gt_ranking)\n",
    "    x_list.append(i)\n",
    "    spearman_correlations.append(spearman_corr)"
   ]
  },
  {
   "cell_type": "code",
   "execution_count": null,
   "metadata": {},
   "outputs": [],
   "source": [
    "plt.plot(x_list, spearman_correlations)\n",
    "plt.xlabel('Number of rated movies')\n",
    "plt.ylabel('Spearman\\'s correlation')\n",
    "plt.title('Evolution of the Spearman\\'s correlation (actors + directors + genres)')\n",
    "plt.show()"
   ]
  },
  {
   "cell_type": "code",
   "execution_count": null,
   "metadata": {},
   "outputs": [],
   "source": [
    "genres_weights_algo = model.coef_[0].argsort()[::-1]\n",
    "top_3_algo = genres_weights_algo[:3]\n",
    "bottom_3_algo = genres_weights_algo[:-4:-1]\n",
    "\n",
    "genres_weights_gt = theta_user.argsort()[::-1]\n",
    "top_3_gt = genres_weights_gt[:3]\n",
    "bottom_3_gt = genres_weights_gt[:-4:-1]\n",
    "\n",
    "print(f\"Top-3 genres predicted by the model: {movies_actors_directors_genres.columns[top_3_algo].values}\")\n",
    "print(f\"Top-3 genres in the ground truth: {movies_actors_directors_genres.columns[top_3_gt].values}\\n\")\n",
    "print(f\"Bottom-3 genres predicted by the model: {movies_actors_directors_genres.columns[bottom_3_algo].values}\")\n",
    "print(f\"Bottom-3 genres in the ground truth: {movies_actors_directors_genres.columns[bottom_3_gt].values}\")"
   ]
  }
 ],
 "metadata": {
  "kernelspec": {
   "display_name": "Python 3",
   "language": "python",
   "name": "python3"
  },
  "language_info": {
   "codemirror_mode": {
    "name": "ipython",
    "version": 3
   },
   "file_extension": ".py",
   "mimetype": "text/x-python",
   "name": "python",
   "nbconvert_exporter": "python",
   "pygments_lexer": "ipython3",
   "version": "3.10.6"
  }
 },
 "nbformat": 4,
 "nbformat_minor": 4
}
