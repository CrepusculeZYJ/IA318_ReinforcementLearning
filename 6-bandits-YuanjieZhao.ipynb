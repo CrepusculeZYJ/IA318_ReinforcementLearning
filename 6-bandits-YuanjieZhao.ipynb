{
 "cells": [
  {
   "cell_type": "markdown",
   "metadata": {},
   "source": [
    "# Reinforcement Learning\n",
    "\n",
    "# 6. Bandit Algorithms\n",
    "\n",
    "This notebook presents **multi-armed bandit** algorithms."
   ]
  },
  {
   "cell_type": "code",
   "execution_count": 1,
   "metadata": {},
   "outputs": [],
   "source": [
    "import numpy as np\n",
    "from matplotlib import pyplot as plt"
   ]
  },
  {
   "cell_type": "code",
   "execution_count": 2,
   "metadata": {},
   "outputs": [],
   "source": [
    "from model import Environment\n",
    "from agent import Agent"
   ]
  },
  {
   "cell_type": "markdown",
   "metadata": {},
   "source": [
    "## Multi-Armed Bandit\n",
    "\n",
    "Multi-armed bandits are single-state models with random rewards."
   ]
  },
  {
   "cell_type": "code",
   "execution_count": 3,
   "metadata": {},
   "outputs": [],
   "source": [
    "class MAB(Environment):\n",
    "    \"\"\"Multi-Armed Bandit environnement.\n",
    "    \n",
    "    Parameters\n",
    "    ----------\n",
    "    distribution: string\n",
    "        Reward distribution (Bernoulli, Uniform or Gaussian)\n",
    "    params: list\n",
    "        List of parameters (one per action)\n",
    "        Example for Bernoulli (mean): [0.4, 0.5, 0.6]\n",
    "        Example for Uniform (low, high): [(-1, 1), (0, 1), (-1, 2)]\n",
    "        Example for Gaussian (mean, variance): [(0, 1), (1, 2), (-1, 1)]\n",
    "    \"\"\"\n",
    "\n",
    "    def __init__(self, distribution='bernoulli', params=[0.4, 0.6]):        \n",
    "        if type(distribution) != str:\n",
    "            raise ValueError(\"The parameter 'distribution' must be a string: either 'bernoulli', 'uniform' or 'gaussian'.\")\n",
    "        self.distribution = distribution.lower()\n",
    "        self.params = params\n",
    "         \n",
    "    @staticmethod\n",
    "    def get_states():\n",
    "        \"\"\"Single state.\"\"\"\n",
    "        return [None]\n",
    "    \n",
    "    def get_actions(self):\n",
    "        \"\"\"One action per arm.\"\"\"\n",
    "        actions = [action for action, _ in enumerate(self.params)]\n",
    "        return actions\n",
    "    \n",
    "    def get_reward(self, action):\n",
    "        \"\"\"Random reward. The parameter depends on the action.\"\"\"\n",
    "        if self.distribution == 'bernoulli':\n",
    "            return np.random.random() < self.params[action]\n",
    "        if self.distribution == 'uniform':\n",
    "            low, high = self.params[action]\n",
    "            return np.random.uniform(low, high)\n",
    "        if self.distribution in ['gaussian', 'normal']:\n",
    "            mean, std = self.params[action]\n",
    "            return np.random.normal(mean, std)\n",
    "        raise ValueError('Unknown distribution.')\n",
    "        \n",
    "    def get_model(self):\n",
    "        raise ValueError('Not available.')\n",
    "        \n",
    "    def step(self, action):\n",
    "        stop = False\n",
    "        reward = self.get_reward(action)\n",
    "        return reward, stop"
   ]
  },
  {
   "cell_type": "code",
   "execution_count": 4,
   "metadata": {},
   "outputs": [],
   "source": [
    "class Bandit(Agent):\n",
    "    \"\"\"Bandit algorithm with random policy. \n",
    "\n",
    "    Parameters\n",
    "    ----------\n",
    "    model : object of class MAB\n",
    "        The model.\n",
    "    init_value : float\n",
    "        Initial value of the action-value function.\n",
    "    init_count : int\n",
    "        Initial count of the action-count function.\n",
    "    \"\"\"\n",
    "    \n",
    "    def __init__(self, model, init_value=0, init_count=0):\n",
    "        if not isinstance(model, MAB):\n",
    "            raise ValueError('The model must be a multi-armed bandit.')\n",
    "        self.model = model\n",
    "        self.policy = self.random_policy\n",
    "        actions = model.get_actions()\n",
    "        self.values = len(actions) * [init_value]\n",
    "        self.counts = len(actions) * [init_count]\n",
    "\n",
    "    def get_actions(self, state=None):\n",
    "        \"\"\"Get all possible actions.\"\"\"\n",
    "        return self.model.get_actions()\n",
    "    \n",
    "    def get_episode(self, horizon=100):\n",
    "        \"\"\"Get the rewards for an episode and update the values.\"\"\"\n",
    "        state = None\n",
    "        rewards = []\n",
    "        for t in range(horizon):\n",
    "            action = self.get_action(state)\n",
    "            reward, _ = self.model.step(action)\n",
    "            rewards.append(reward)\n",
    "            self.counts[action] += 1\n",
    "            diff = reward - self.values[action]\n",
    "            # update by temporal difference\n",
    "            self.values[action] += diff / self.counts[action]\n",
    "        return rewards    "
   ]
  },
  {
   "cell_type": "code",
   "execution_count": 5,
   "metadata": {},
   "outputs": [],
   "source": [
    "model = MAB()"
   ]
  },
  {
   "cell_type": "code",
   "execution_count": 6,
   "metadata": {},
   "outputs": [
    {
     "data": {
      "text/plain": [
       "'bernoulli'"
      ]
     },
     "execution_count": 6,
     "metadata": {},
     "output_type": "execute_result"
    }
   ],
   "source": [
    "model.distribution"
   ]
  },
  {
   "cell_type": "code",
   "execution_count": 7,
   "metadata": {},
   "outputs": [
    {
     "data": {
      "text/plain": [
       "[0.4, 0.6]"
      ]
     },
     "execution_count": 7,
     "metadata": {},
     "output_type": "execute_result"
    }
   ],
   "source": [
    "model.params"
   ]
  },
  {
   "cell_type": "code",
   "execution_count": 8,
   "metadata": {},
   "outputs": [],
   "source": [
    "agent = Bandit(model)"
   ]
  },
  {
   "cell_type": "code",
   "execution_count": 9,
   "metadata": {},
   "outputs": [
    {
     "data": {
      "text/plain": [
       "[0, 1]"
      ]
     },
     "execution_count": 9,
     "metadata": {},
     "output_type": "execute_result"
    }
   ],
   "source": [
    "agent.get_actions()"
   ]
  },
  {
   "cell_type": "code",
   "execution_count": 10,
   "metadata": {},
   "outputs": [],
   "source": [
    "rewards = agent.get_episode(horizon=100)"
   ]
  },
  {
   "cell_type": "code",
   "execution_count": 11,
   "metadata": {},
   "outputs": [
    {
     "data": {
      "text/plain": [
       "0.39"
      ]
     },
     "execution_count": 11,
     "metadata": {},
     "output_type": "execute_result"
    }
   ],
   "source": [
    "np.mean(rewards)"
   ]
  },
  {
   "cell_type": "code",
   "execution_count": 12,
   "metadata": {},
   "outputs": [
    {
     "data": {
      "text/plain": [
       "[0.29629629629629634, 0.49999999999999983]"
      ]
     },
     "execution_count": 12,
     "metadata": {},
     "output_type": "execute_result"
    }
   ],
   "source": [
    "agent.values"
   ]
  },
  {
   "cell_type": "code",
   "execution_count": 13,
   "metadata": {},
   "outputs": [
    {
     "data": {
      "text/plain": [
       "[54, 46]"
      ]
     },
     "execution_count": 13,
     "metadata": {},
     "output_type": "execute_result"
    }
   ],
   "source": [
    "agent.counts"
   ]
  },
  {
   "cell_type": "markdown",
   "metadata": {},
   "source": [
    "## The $\\varepsilon$-greedy policy"
   ]
  },
  {
   "cell_type": "code",
   "execution_count": 14,
   "metadata": {},
   "outputs": [],
   "source": [
    "class Greedy(Bandit):\n",
    "    \"\"\"Bandit algorithm with epsilon-greedy policy. \n",
    "\n",
    "    Parameters\n",
    "    ----------\n",
    "    model : object of class MAB\n",
    "        The model.\n",
    "    epsilon : float in [0, 1]\n",
    "        Exploration rate.\n",
    "    init_value : float\n",
    "        Initial value of the action-value function.\n",
    "    init_count : int\n",
    "        Initial count of the action-count function.\n",
    "    \"\"\"\n",
    "    \n",
    "    def __init__(self, model, epsilon=0.1, init_value=0, init_count=0):\n",
    "        super(Greedy, self).__init__(model, init_value, init_count) \n",
    "        self.epsilon = epsilon\n",
    "\n",
    "    def get_action(self, state=None):\n",
    "        \"\"\"Get action with eps-greedy policy.\"\"\"\n",
    "        actions = self.get_actions()\n",
    "        if np.random.random() > self.epsilon:\n",
    "            # select the best action(s) with probability 1 - epsilon\n",
    "            values = np.array(self.values)\n",
    "            actions = np.flatnonzero(values==np.max(values))\n",
    "        return np.random.choice(actions)\n"
   ]
  },
  {
   "cell_type": "code",
   "execution_count": 15,
   "metadata": {},
   "outputs": [],
   "source": [
    "agent = Greedy(model)"
   ]
  },
  {
   "cell_type": "code",
   "execution_count": 16,
   "metadata": {},
   "outputs": [],
   "source": [
    "rewards = agent.get_episode(horizon=100)"
   ]
  },
  {
   "cell_type": "code",
   "execution_count": null,
   "metadata": {},
   "outputs": [],
   "source": [
    "np.mean(rewards)"
   ]
  },
  {
   "cell_type": "code",
   "execution_count": null,
   "metadata": {},
   "outputs": [],
   "source": [
    "agent.values"
   ]
  },
  {
   "cell_type": "code",
   "execution_count": null,
   "metadata": {},
   "outputs": [],
   "source": [
    "agent.counts"
   ]
  },
  {
   "cell_type": "markdown",
   "metadata": {},
   "source": [
    "## To do "
   ]
  },
  {
   "cell_type": "markdown",
   "metadata": {},
   "source": [
    "* Compute the expected **gain** for $\\varepsilon = 0.2$ and check your result by simulation.<br>**Hint:** You might adapt the time horizon.\n",
    "* Observe the phenomenon of **optimism in face of incertainty** when $\\varepsilon = 0$.<br>**Hint:** You might adapt the parameters ``init_value`` and ``init_count``."
   ]
  },
  {
   "cell_type": "markdown",
   "metadata": {},
   "source": [
    "#### $\\epsilon=0.2$"
   ]
  },
  {
   "cell_type": "markdown",
   "metadata": {},
   "source": [
    "Computation:"
   ]
  },
  {
   "cell_type": "markdown",
   "metadata": {},
   "source": [
    "$P(A)=\\epsilon\\times\\frac{1}{2}=0.1$\n",
    "\n",
    "$P(B)=1-\\epsilon + \\epsilon\\times\\frac{1}{2}=0.9$\n",
    "\n",
    "$\\mathbb{E}(A)=0.4$ and $\\mathbb{E}(B)=0.6$\n",
    "\n",
    "$\\mathbb{E}(G)=P(A)\\times\\mathbb{E}(A)+P(B)\\times\\mathbb{E}(B)=0.1\\times 0.4+0.9\\times 0.6=0.58$"
   ]
  },
  {
   "cell_type": "markdown",
   "metadata": {},
   "source": [
    "Simulation:"
   ]
  },
  {
   "cell_type": "code",
   "execution_count": null,
   "metadata": {},
   "outputs": [],
   "source": [
    "agent = Greedy(model, epsilon=0.2)\n",
    "rewards = agent.get_episode(horizon=10000)\n",
    "np.mean(rewards)"
   ]
  },
  {
   "cell_type": "markdown",
   "metadata": {},
   "source": [
    "#### $\\epsilon=0$"
   ]
  },
  {
   "cell_type": "code",
   "execution_count": null,
   "metadata": {},
   "outputs": [],
   "source": [
    "agent = Greedy(model, epsilon=0, init_value=1, init_count=1)\n",
    "rewards = agent.get_episode(horizon=10000)\n",
    "np.mean(rewards)"
   ]
  },
  {
   "cell_type": "markdown",
   "metadata": {},
   "source": [
    "## The UCB policy\n",
    "\n",
    "We now consider the UCB (Upper Confidence Bound) policy."
   ]
  },
  {
   "cell_type": "markdown",
   "metadata": {},
   "source": [
    "## To do\n",
    "\n",
    "* Complete and test the agent ``UCB`` below.\n",
    "* Plot the **regret** with respect to the time horizon, and compare with the $\\varepsilon$-greedy policy for different values of $\\varepsilon$.\n",
    "* Repeat this experiment for the other models (uniform and Gaussian).<br> Interpret the results.\n",
    "* Test the impact of the number of actions."
   ]
  },
  {
   "cell_type": "code",
   "execution_count": 16,
   "metadata": {},
   "outputs": [],
   "source": [
    "class UCB(Bandit):\n",
    "    \"\"\"Bandit algorithm with UCB policy. \n",
    "\n",
    "    Parameters\n",
    "    ----------\n",
    "    model : object of class MAB\n",
    "        The model.\n",
    "    const : float in [0, 1]\n",
    "        Multiplicative constant for the UCB bonus.\n",
    "    init_value : float\n",
    "        Initial value of the action-value function.\n",
    "    init_count : int\n",
    "        Initial count of the action-count function.\n",
    "    \"\"\"\n",
    "    \n",
    "    def __init__(self, model, const=1, init_value=0, init_count=0):\n",
    "        super(UCB, self).__init__(model, init_value, init_count) \n",
    "        self.const = const\n",
    "\n",
    "    def get_action(self, state=None):\n",
    "        \"\"\"Get action with UCB policy.\"\"\"\n",
    "        values = np.array(self.values)\n",
    "        counts = np.array(self.counts)\n",
    "        actions = self.get_actions()\n",
    "        # to be modified\n",
    "        ucb_values = values + self.const * np.sqrt(np.log(np.sum(counts) + 1) / (counts + 1e-6))\n",
    "        return actions[np.argmax(ucb_values)]\n"
   ]
  },
  {
   "cell_type": "code",
   "execution_count": null,
   "metadata": {},
   "outputs": [],
   "source": [
    "agent = UCB(model)\n",
    "rewards = agent.get_episode(horizon=10000)\n",
    "np.mean(rewards)"
   ]
  },
  {
   "cell_type": "code",
   "execution_count": 18,
   "metadata": {},
   "outputs": [],
   "source": [
    "def calculate_regret(model, agent, horizon):\n",
    "    optimal_reward = [np.max(model.params)] * horizon\n",
    "    rewards = agent.get_episode(horizon)\n",
    "    return np.cumsum(optimal_reward - np.array(rewards))"
   ]
  },
  {
   "cell_type": "markdown",
   "metadata": {},
   "source": [
    "Bernoulli"
   ]
  },
  {
   "cell_type": "code",
   "execution_count": 19,
   "metadata": {},
   "outputs": [
    {
     "data": {
      "image/png": "[encoded data removed]",
      "text/plain": [
       "<Figure size 640x480 with 1 Axes>"
      ]
     },
     "metadata": {},
     "output_type": "display_data"
    }
   ],
   "source": [
    "model = MAB()\n",
    "epsilons = [0.1, 0.2, 0.3]\n",
    "\n",
    "agent_UCB = UCB(model)\n",
    "regrets_UCB = calculate_regret(model, agent_UCB, horizon=10000)\n",
    "\n",
    "regrets_eps = []\n",
    "for epsilon in epsilons:\n",
    "    agent_eps = Greedy(model, epsilon=epsilon)\n",
    "    regrets_eps.append(calculate_regret(model, agent_eps, horizon=10000))\n",
    "\n",
    "plt.plot(regrets_UCB, label=\"UCB\")\n",
    "for i, epsilon in enumerate(epsilons):\n",
    "    plt.plot(regrets_eps[i], label=f\"$\\epsilon$-greedy ($\\epsilon$={epsilon})\")\n",
    "plt.xlabel(\"Time Horizon\")\n",
    "plt.ylabel(\"Cumulative Regret\")\n",
    "plt.legend()\n",
    "plt.grid()\n",
    "plt.show()"
   ]
  },
  {
   "cell_type": "markdown",
   "metadata": {},
   "source": [
    "Uniform"
   ]
  },
  {
   "cell_type": "code",
   "execution_count": null,
   "metadata": {},
   "outputs": [],
   "source": [
    "model = MAB(distribution='uniform', params=[(0.1, 0.7), (0.3, 0.8)])\n",
    "epsilons = [0.1, 0.2, 0.3]\n",
    "\n",
    "agent_UCB = UCB(model)\n",
    "regrets_UCB = calculate_regret(model, agent_UCB, horizon=10000)\n",
    "\n",
    "regrets_eps = []\n",
    "for epsilon in epsilons:\n",
    "    agent_eps = Greedy(model, epsilon=epsilon)\n",
    "    regrets_eps.append(calculate_regret(model, agent_eps, horizon=10000))\n",
    "\n",
    "plt.plot(regrets_UCB, label=\"UCB\")\n",
    "for i, epsilon in enumerate(epsilons):\n",
    "    plt.plot(regrets_eps[i], label=f\"$\\epsilon$-greedy ($\\epsilon$={epsilon})\")\n",
    "plt.xlabel(\"Time Horizon\")\n",
    "plt.ylabel(\"Cumulative Regret\")\n",
    "plt.legend()\n",
    "plt.grid()\n",
    "plt.show()"
   ]
  },
  {
   "cell_type": "markdown",
   "metadata": {},
   "source": [
    "Gaussian"
   ]
  },
  {
   "cell_type": "code",
   "execution_count": null,
   "metadata": {},
   "outputs": [],
   "source": [
    "model = MAB(distribution='gaussian', params=[(0.4, 0.01), (0.5, 1)])\n",
    "epsilons = [0.1, 0.2, 0.3]\n",
    "\n",
    "agent_UCB = UCB(model)\n",
    "regrets_UCB = calculate_regret(model, agent_UCB, horizon=10000)\n",
    "\n",
    "regrets_eps = []\n",
    "for epsilon in epsilons:\n",
    "    agent_eps = Greedy(model, epsilon=epsilon)\n",
    "    regrets_eps.append(calculate_regret(model, agent_eps, horizon=10000))\n",
    "\n",
    "plt.plot(regrets_UCB, label=\"UCB\")\n",
    "for i, epsilon in enumerate(epsilons):\n",
    "    plt.plot(regrets_eps[i], label=f\"$\\epsilon$-greedy ($\\epsilon$={epsilon})\")\n",
    "plt.xlabel(\"Time Horizon\")\n",
    "plt.ylabel(\"Cumulative Regret\")\n",
    "plt.legend()\n",
    "plt.grid()\n",
    "plt.show()"
   ]
  },
  {
   "cell_type": "markdown",
   "metadata": {},
   "source": [
    "Interpretation:\n",
    "\n",
    "It seems that UCB performs better than $\\epsilon$-greedy.\n",
    "\n",
    "In fact, UCB outperforms $\\epsilon$-greedy because it dynamically balances exploration and exploitation by focusing on actions with high uncertainty, thanks to its optimism-based approach. Unlike $\\epsilon$-greedy, which explores randomly, UCB efficiently targets potentially optimal actions, avoiding unnecessary trials. This adaptiveness leads to better sample efficiency and lower regret over time."
   ]
  },
  {
   "cell_type": "code",
   "execution_count": 20,
   "metadata": {},
   "outputs": [
    {
     "name": "stdout",
     "output_type": "stream",
     "text": [
      "Action number: 2, Rewards: 0.8954, Regret: -11.000000000001386\n",
      "Action number: 3, Rewards: 0.8931, Regret: -29.00000000000859\n",
      "Action number: 4, Rewards: 0.8878, Regret: 45.99999999999203\n"
     ]
    }
   ],
   "source": [
    "for params in [[0.7,0.9],\n",
    "               [0.5,0.7,0.9],\n",
    "               [0.3,0.5,0.7,0.9]]:\n",
    "    model = MAB(distribution='bernoulli', params=params)\n",
    "    agent = UCB(model)\n",
    "    rewards = agent.get_episode(horizon=10000)\n",
    "    print(f\"Action number: {len(params)}, Rewards: {np.mean(rewards)}, Regret: {calculate_regret(model, agent, horizon=10000)[-1]}\")"
   ]
  },
  {
   "cell_type": "code",
   "execution_count": 50,
   "metadata": {},
   "outputs": [
    {
     "name": "stdout",
     "output_type": "stream",
     "text": [
      "Action number: 3, Rewards: 0.7981\n",
      "Action number: 3, Rewards: 0.8007\n",
      "Action number: 3, Rewards: 0.7949\n",
      "Action number: 3, Rewards: 0.7905\n"
     ]
    }
   ],
   "source": [
    "for params in [[0.8,0.5,0.2],\n",
    "               [0.8,0.5,0.5],\n",
    "               [0.8,0.8,0.5],\n",
    "               [0.8,0.7,0.5]]:\n",
    "    model = MAB(distribution='bernoulli', params=params)\n",
    "    agent = Greedy(model, epsilon=0.01)\n",
    "    rewards = agent.get_episode(horizon=10000)\n",
    "    print(f\"Action number: {len(params)}, Rewards: {np.mean(rewards)}\")"
   ]
  },
  {
   "cell_type": "markdown",
   "metadata": {},
   "source": [
    "Regret generally increases when the number of actions increases. This happens because UCB must explore each action sufficiently to estimate its reward distribution, and with more actions, the exploration phase becomes longer. As a result, more suboptimal actions are tried before settling on the optimal one, leading to higher cumulative regret."
   ]
  },
  {
   "cell_type": "markdown",
   "metadata": {},
   "source": [
    "## Thompson sampling"
   ]
  },
  {
   "cell_type": "markdown",
   "metadata": {},
   "source": [
    "Finally, we consider Thompson Sampling, where the mean rewards are considered as random and sampled according to the posterior distribution (Bayesian algorithm)."
   ]
  },
  {
   "cell_type": "markdown",
   "metadata": {},
   "source": [
    "## To do\n",
    "\n",
    "* Complete and test the agent ``TS`` below.\n",
    "* Plot the **regret** with respect to the time horizon, and compare with the UCB policy for different models.\n",
    "* Which algorithm is the more efficient?<br> Comment your results."
   ]
  },
  {
   "cell_type": "code",
   "execution_count": 93,
   "metadata": {},
   "outputs": [],
   "source": [
    "class TS(Bandit):\n",
    "    \"\"\"Bandit algorithm with Thompson sampling. \n",
    "\n",
    "    Parameters\n",
    "    ----------\n",
    "    model : object of class MAB\n",
    "        The model.\n",
    "    \"\"\"\n",
    "    \n",
    "    def __init__(self, model):\n",
    "        super(TS, self).__init__(model) \n",
    "        self.distribution = model.distribution\n",
    "            \n",
    "    def get_action(self, state=None):\n",
    "        \"\"\"Get action with TS policy.\"\"\"\n",
    "        values = np.array(self.values)\n",
    "        counts = np.array(self.counts)\n",
    "        if self.distribution == 'bernoulli':\n",
    "            # to be modified\n",
    "            samples = np.array([\n",
    "                np.random.beta(value * count + 1, count - value * count + 1)\n",
    "                for value, count in zip(values, counts)\n",
    "            ])\n",
    "        elif self.distribution == 'uniform':\n",
    "            # to be modified\n",
    "            samples = np.array([\n",
    "                np.random.uniform(low, high)\n",
    "                for (low, high) in self.model.params\n",
    "            ])\n",
    "        elif self.distribution == 'gaussian':\n",
    "            # to be modified\n",
    "            samples = np.array([\n",
    "                np.random.normal(mean, np.sqrt(var))\n",
    "                for (mean, var) in self.model.params\n",
    "            ])\n",
    "        return np.argmax(samples)\n"
   ]
  },
  {
   "cell_type": "code",
   "execution_count": null,
   "metadata": {},
   "outputs": [],
   "source": [
    "model = MAB(distribution='bernoulli', params=[0.4, 0.6])\n",
    "agent = TS(model)\n",
    "rewards = agent.get_episode(horizon=10000)\n",
    "np.mean(rewards)"
   ]
  },
  {
   "cell_type": "markdown",
   "metadata": {},
   "source": [
    "Bernoulli"
   ]
  },
  {
   "cell_type": "code",
   "execution_count": null,
   "metadata": {},
   "outputs": [],
   "source": [
    "model = MAB()\n",
    "agent_UCB = UCB(model)\n",
    "regrets_UCB = calculate_regret(model, agent_UCB, horizon=10000)\n",
    "\n",
    "agent_TS = TS(model)\n",
    "regrets_TS = calculate_regret(model, agent_TS, horizon=10000)\n",
    "\n",
    "plt.plot(regrets_UCB, label=\"UCB\")\n",
    "plt.plot(regrets_TS, label=\"TS\")\n",
    "plt.xlabel(\"Time Horizon\")\n",
    "plt.ylabel(\"Cumulative Regret\")\n",
    "plt.legend()\n",
    "plt.grid()\n",
    "plt.show()"
   ]
  },
  {
   "cell_type": "markdown",
   "metadata": {},
   "source": [
    "Uniform"
   ]
  },
  {
   "cell_type": "code",
   "execution_count": null,
   "metadata": {},
   "outputs": [],
   "source": [
    "model = MAB(distribution='uniform', params=[(0.1, 0.7), (0.3, 0.8)])\n",
    "agent_UCB = UCB(model)\n",
    "regrets_UCB = calculate_regret(model, agent_UCB, horizon=10000)\n",
    "\n",
    "agent_TS = TS(model)\n",
    "regrets_TS = calculate_regret(model, agent_TS, horizon=10000)\n",
    "\n",
    "plt.plot(regrets_UCB, label=\"UCB\")\n",
    "plt.plot(regrets_TS, label=\"TS\")\n",
    "plt.xlabel(\"Time Horizon\")\n",
    "plt.ylabel(\"Cumulative Regret\")\n",
    "plt.legend()\n",
    "plt.grid()\n",
    "plt.show()"
   ]
  },
  {
   "cell_type": "markdown",
   "metadata": {},
   "source": [
    "Gaussian"
   ]
  },
  {
   "cell_type": "code",
   "execution_count": null,
   "metadata": {},
   "outputs": [],
   "source": [
    "model = MAB(distribution='gaussian', params=[(0.4, 0.01), (0.5, 1)])\n",
    "agent_UCB = UCB(model)\n",
    "regrets_UCB = calculate_regret(model, agent_UCB, horizon=10000)\n",
    "\n",
    "agent_TS = TS(model)\n",
    "regrets_TS = calculate_regret(model, agent_TS, horizon=10000)\n",
    "\n",
    "plt.plot(regrets_UCB, label=\"UCB\")\n",
    "plt.plot(regrets_TS, label=\"TS\")\n",
    "plt.xlabel(\"Time Horizon\")\n",
    "plt.ylabel(\"Cumulative Regret\")\n",
    "plt.legend()\n",
    "plt.grid()\n",
    "plt.show()"
   ]
  }
 ],
 "metadata": {
  "kernelspec": {
   "display_name": "Python 3",
   "language": "python",
   "name": "python3"
  },
  "language_info": {
   "codemirror_mode": {
    "name": "ipython",
    "version": 3
   },
   "file_extension": ".py",
   "mimetype": "text/x-python",
   "name": "python",
   "nbconvert_exporter": "python",
   "pygments_lexer": "ipython3",
   "version": "3.10.6"
  }
 },
 "nbformat": 4,
 "nbformat_minor": 4
}
